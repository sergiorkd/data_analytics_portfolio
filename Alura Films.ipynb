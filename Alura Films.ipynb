{
 "cells": [
  {
   "cell_type": "markdown",
   "id": "ef1615f6-8157-4a96-966a-e68d7e6066c4",
   "metadata": {},
   "source": [
    "# <font color = green> Data analisys from data set Alura films <font>"
   ]
  },
  {
   "cell_type": "markdown",
   "id": "1b10e02d-bcf8-4129-b115-1694729a317f",
   "metadata": {
    "tags": []
   },
   "source": [
    "## Importing data set and lybraries"
   ]
  },
  {
   "cell_type": "code",
   "execution_count": 1,
   "id": "e7550b23-be0d-4336-aa49-4f31f9d2523f",
   "metadata": {},
   "outputs": [],
   "source": [
    "import pandas as pd\n",
    "import pandera as pa\n",
    "import seaborn as sns\n",
    "import matplotlib.pyplot as plt\n",
    "import numpy as np"
   ]
  },
  {
   "cell_type": "code",
   "execution_count": 2,
   "id": "37ed66f7-be03-4e5d-98f5-0979a864f9f2",
   "metadata": {},
   "outputs": [],
   "source": [
    "dados = pd.read_csv('filmes.csv', sep = ',')"
   ]
  },
  {
   "cell_type": "code",
   "execution_count": 3,
   "id": "9bb3441f-5d50-4536-9f46-a63b365a0835",
   "metadata": {},
   "outputs": [
    {
     "data": {
      "text/plain": [
       "Id_Title           int64\n",
       "Series_Title      object\n",
       "Gross             object\n",
       "Released_Year      int64\n",
       "Certificate       object\n",
       "Runtime           object\n",
       "Genre             object\n",
       "IMDB_Rating      float64\n",
       "Overview          object\n",
       "Meta_score       float64\n",
       "Director          object\n",
       "Star1             object\n",
       "Star2             object\n",
       "Star3             object\n",
       "Star4             object\n",
       "Noofvotes          int64\n",
       "dtype: object"
      ]
     },
     "execution_count": 3,
     "metadata": {},
     "output_type": "execute_result"
    }
   ],
   "source": [
    "dados.dtypes"
   ]
  },
  {
   "cell_type": "markdown",
   "id": "9b3e8a99-9fe5-40c5-ae0e-d42a6f015811",
   "metadata": {
    "tags": []
   },
   "source": [
    "## Remaning columns with significant names and removing erros from Total_budget and Run_time"
   ]
  },
  {
   "cell_type": "code",
   "execution_count": 4,
   "id": "8af40d4e-3c46-456d-a886-966d64f8f237",
   "metadata": {},
   "outputs": [
    {
     "data": {
      "text/plain": [
       "Index(['Id_Title', 'Series_Title', 'Gross', 'Released_Year', 'Certificate',\n",
       "       'Runtime', 'Genre', 'IMDB_Rating', 'Overview', 'Meta_score', 'Director',\n",
       "       'Star1', 'Star2', 'Star3', 'Star4', 'Noofvotes'],\n",
       "      dtype='object')"
      ]
     },
     "execution_count": 4,
     "metadata": {},
     "output_type": "execute_result"
    }
   ],
   "source": [
    "dados.columns"
   ]
  },
  {
   "cell_type": "code",
   "execution_count": 5,
   "id": "e61d0d43-2e07-4c2d-8764-58f7f4fe1f67",
   "metadata": {},
   "outputs": [],
   "source": [
    "renomear = {\n",
    "    'Id_Title' : 'ID',\n",
    "    'Series_Title' : 'Movie_Title',\n",
    "    'Gross' : 'Total_Budget',\n",
    "    'Released_Year' : 'Release_Year',\n",
    "    'Certificate' : 'Rating',\n",
    "    'Runtime' : 'Run_Time',\n",
    "    'Genre' : 'Genre',\n",
    "    'IMDB_Rating' : 'IMDB_Rating',\n",
    "    'Overview' : 'Overview',\n",
    "    'Meta_score' : 'Score',\n",
    "    'Director' : 'Director',\n",
    "    'Star1' : 'Actor_1',\n",
    "    'Star2' : 'Actor_2',\n",
    "    'Star3' : 'Actor_3',\n",
    "    'Star4' : 'Actor_4',\n",
    "    'Noofvotes' : 'Number_of_votes'\n",
    "}"
   ]
  },
  {
   "cell_type": "code",
   "execution_count": 6,
   "id": "240e98e0-b1a0-4da7-af17-c2068e081caa",
   "metadata": {},
   "outputs": [
    {
     "data": {
      "text/html": [
       "<div>\n",
       "<style scoped>\n",
       "    .dataframe tbody tr th:only-of-type {\n",
       "        vertical-align: middle;\n",
       "    }\n",
       "\n",
       "    .dataframe tbody tr th {\n",
       "        vertical-align: top;\n",
       "    }\n",
       "\n",
       "    .dataframe thead th {\n",
       "        text-align: right;\n",
       "    }\n",
       "</style>\n",
       "<table border=\"1\" class=\"dataframe\">\n",
       "  <thead>\n",
       "    <tr style=\"text-align: right;\">\n",
       "      <th></th>\n",
       "      <th>ID</th>\n",
       "      <th>Movie_Title</th>\n",
       "      <th>Total_Budget</th>\n",
       "      <th>Release_Year</th>\n",
       "      <th>Rating</th>\n",
       "      <th>Run_Time</th>\n",
       "      <th>Genre</th>\n",
       "      <th>IMDB_Rating</th>\n",
       "      <th>Overview</th>\n",
       "      <th>Score</th>\n",
       "      <th>Director</th>\n",
       "      <th>Actor_1</th>\n",
       "      <th>Actor_2</th>\n",
       "      <th>Actor_3</th>\n",
       "      <th>Actor_4</th>\n",
       "      <th>Number_of_votes</th>\n",
       "    </tr>\n",
       "  </thead>\n",
       "  <tbody>\n",
       "    <tr>\n",
       "      <th>0</th>\n",
       "      <td>1</td>\n",
       "      <td>The Shawshank Redemption</td>\n",
       "      <td>28341469.0</td>\n",
       "      <td>1994</td>\n",
       "      <td>A</td>\n",
       "      <td>142</td>\n",
       "      <td>Drama</td>\n",
       "      <td>9.3</td>\n",
       "      <td>Two imprisoned men bond over a number of years...</td>\n",
       "      <td>80.0</td>\n",
       "      <td>Frank Darabont</td>\n",
       "      <td>Tim Robbins</td>\n",
       "      <td>Morgan Freeman</td>\n",
       "      <td>Bob Gunton</td>\n",
       "      <td>William Sadler</td>\n",
       "      <td>2343110</td>\n",
       "    </tr>\n",
       "    <tr>\n",
       "      <th>1</th>\n",
       "      <td>2</td>\n",
       "      <td>The Godfather</td>\n",
       "      <td>134966411.0</td>\n",
       "      <td>1972</td>\n",
       "      <td>A</td>\n",
       "      <td>175</td>\n",
       "      <td>Crime, Drama</td>\n",
       "      <td>9.2</td>\n",
       "      <td>An organized crime dynasty's aging patriarch t...</td>\n",
       "      <td>100.0</td>\n",
       "      <td>Francis Ford Coppola</td>\n",
       "      <td>Marlon Brando</td>\n",
       "      <td>Al Pacino</td>\n",
       "      <td>James Caan</td>\n",
       "      <td>Diane Keaton</td>\n",
       "      <td>1620367</td>\n",
       "    </tr>\n",
       "    <tr>\n",
       "      <th>2</th>\n",
       "      <td>3</td>\n",
       "      <td>The Dark Knight</td>\n",
       "      <td>534858444.0</td>\n",
       "      <td>2008</td>\n",
       "      <td>UA</td>\n",
       "      <td>152</td>\n",
       "      <td>Action, Crime, Drama</td>\n",
       "      <td>9.0</td>\n",
       "      <td>When the menace known as the Joker wreaks havo...</td>\n",
       "      <td>84.0</td>\n",
       "      <td>Christopher Nolan</td>\n",
       "      <td>Christian Bale</td>\n",
       "      <td>Heath Ledger</td>\n",
       "      <td>Aaron Eckhart</td>\n",
       "      <td>Michael Caine</td>\n",
       "      <td>2303232</td>\n",
       "    </tr>\n",
       "  </tbody>\n",
       "</table>\n",
       "</div>"
      ],
      "text/plain": [
       "   ID               Movie_Title  Total_Budget  Release_Year Rating  Run_Time  \\\n",
       "0   1  The Shawshank Redemption    28341469.0          1994      A       142   \n",
       "1   2             The Godfather   134966411.0          1972      A       175   \n",
       "2   3           The Dark Knight   534858444.0          2008     UA       152   \n",
       "\n",
       "                  Genre  IMDB_Rating  \\\n",
       "0                 Drama          9.3   \n",
       "1          Crime, Drama          9.2   \n",
       "2  Action, Crime, Drama          9.0   \n",
       "\n",
       "                                            Overview  Score  \\\n",
       "0  Two imprisoned men bond over a number of years...   80.0   \n",
       "1  An organized crime dynasty's aging patriarch t...  100.0   \n",
       "2  When the menace known as the Joker wreaks havo...   84.0   \n",
       "\n",
       "               Director         Actor_1         Actor_2        Actor_3  \\\n",
       "0        Frank Darabont     Tim Robbins  Morgan Freeman     Bob Gunton   \n",
       "1  Francis Ford Coppola   Marlon Brando       Al Pacino     James Caan   \n",
       "2     Christopher Nolan  Christian Bale    Heath Ledger  Aaron Eckhart   \n",
       "\n",
       "          Actor_4  Number_of_votes  \n",
       "0  William Sadler          2343110  \n",
       "1    Diane Keaton          1620367  \n",
       "2   Michael Caine          2303232  "
      ]
     },
     "execution_count": 6,
     "metadata": {},
     "output_type": "execute_result"
    }
   ],
   "source": [
    "dados = dados.rename(columns = renomear)\n",
    "dados['Run_Time'] = dados['Run_Time'].str.removesuffix(\" min\").astype(int)\n",
    "dados['Total_Budget'] = dados['Total_Budget'].str.replace(',' , '', regex = False).astype(float)\n",
    "dados.head(3)"
   ]
  },
  {
   "cell_type": "code",
   "execution_count": 7,
   "id": "67c4f208-5c14-4fbf-8888-1111f103acd4",
   "metadata": {},
   "outputs": [
    {
     "name": "stdout",
     "output_type": "stream",
     "text": [
      "<class 'pandas.core.frame.DataFrame'>\n",
      "RangeIndex: 1000 entries, 0 to 999\n",
      "Data columns (total 16 columns):\n",
      " #   Column           Non-Null Count  Dtype  \n",
      "---  ------           --------------  -----  \n",
      " 0   ID               1000 non-null   int64  \n",
      " 1   Movie_Title      1000 non-null   object \n",
      " 2   Total_Budget     989 non-null    float64\n",
      " 3   Release_Year     1000 non-null   int64  \n",
      " 4   Rating           1000 non-null   object \n",
      " 5   Run_Time         1000 non-null   int32  \n",
      " 6   Genre            1000 non-null   object \n",
      " 7   IMDB_Rating      1000 non-null   float64\n",
      " 8   Overview         1000 non-null   object \n",
      " 9   Score            843 non-null    float64\n",
      " 10  Director         1000 non-null   object \n",
      " 11  Actor_1          1000 non-null   object \n",
      " 12  Actor_2          1000 non-null   object \n",
      " 13  Actor_3          1000 non-null   object \n",
      " 14  Actor_4          1000 non-null   object \n",
      " 15  Number_of_votes  1000 non-null   int64  \n",
      "dtypes: float64(3), int32(1), int64(3), object(9)\n",
      "memory usage: 121.2+ KB\n"
     ]
    }
   ],
   "source": [
    "dados.info()"
   ]
  },
  {
   "cell_type": "markdown",
   "id": "9f6593fb-fa39-411f-b060-c2909dcc04e3",
   "metadata": {},
   "source": [
    "The Genre column contains more than one movie genre listed and will be diveded in three"
   ]
  },
  {
   "cell_type": "code",
   "execution_count": 8,
   "id": "63f2ce06-9101-4577-91e5-112e21515d9b",
   "metadata": {
    "tags": []
   },
   "outputs": [
    {
     "data": {
      "text/html": [
       "<div>\n",
       "<style scoped>\n",
       "    .dataframe tbody tr th:only-of-type {\n",
       "        vertical-align: middle;\n",
       "    }\n",
       "\n",
       "    .dataframe tbody tr th {\n",
       "        vertical-align: top;\n",
       "    }\n",
       "\n",
       "    .dataframe thead th {\n",
       "        text-align: right;\n",
       "    }\n",
       "</style>\n",
       "<table border=\"1\" class=\"dataframe\">\n",
       "  <thead>\n",
       "    <tr style=\"text-align: right;\">\n",
       "      <th></th>\n",
       "      <th>ID</th>\n",
       "      <th>Movie_Title</th>\n",
       "      <th>Total_Budget</th>\n",
       "      <th>Release_Year</th>\n",
       "      <th>Rating</th>\n",
       "      <th>Run_Time</th>\n",
       "      <th>IMDB_Rating</th>\n",
       "      <th>Overview</th>\n",
       "      <th>Score</th>\n",
       "      <th>Director</th>\n",
       "      <th>Actor_1</th>\n",
       "      <th>Actor_2</th>\n",
       "      <th>Actor_3</th>\n",
       "      <th>Actor_4</th>\n",
       "      <th>Number_of_votes</th>\n",
       "      <th>Genre_1</th>\n",
       "      <th>Genre_2</th>\n",
       "      <th>Genre_3</th>\n",
       "    </tr>\n",
       "  </thead>\n",
       "  <tbody>\n",
       "    <tr>\n",
       "      <th>0</th>\n",
       "      <td>1</td>\n",
       "      <td>The Shawshank Redemption</td>\n",
       "      <td>28341469.0</td>\n",
       "      <td>1994</td>\n",
       "      <td>A</td>\n",
       "      <td>142</td>\n",
       "      <td>9.3</td>\n",
       "      <td>Two imprisoned men bond over a number of years...</td>\n",
       "      <td>80.0</td>\n",
       "      <td>Frank Darabont</td>\n",
       "      <td>Tim Robbins</td>\n",
       "      <td>Morgan Freeman</td>\n",
       "      <td>Bob Gunton</td>\n",
       "      <td>William Sadler</td>\n",
       "      <td>2343110</td>\n",
       "      <td>Drama</td>\n",
       "      <td>None</td>\n",
       "      <td>None</td>\n",
       "    </tr>\n",
       "    <tr>\n",
       "      <th>1</th>\n",
       "      <td>2</td>\n",
       "      <td>The Godfather</td>\n",
       "      <td>134966411.0</td>\n",
       "      <td>1972</td>\n",
       "      <td>A</td>\n",
       "      <td>175</td>\n",
       "      <td>9.2</td>\n",
       "      <td>An organized crime dynasty's aging patriarch t...</td>\n",
       "      <td>100.0</td>\n",
       "      <td>Francis Ford Coppola</td>\n",
       "      <td>Marlon Brando</td>\n",
       "      <td>Al Pacino</td>\n",
       "      <td>James Caan</td>\n",
       "      <td>Diane Keaton</td>\n",
       "      <td>1620367</td>\n",
       "      <td>Crime,</td>\n",
       "      <td>Drama</td>\n",
       "      <td>None</td>\n",
       "    </tr>\n",
       "    <tr>\n",
       "      <th>2</th>\n",
       "      <td>3</td>\n",
       "      <td>The Dark Knight</td>\n",
       "      <td>534858444.0</td>\n",
       "      <td>2008</td>\n",
       "      <td>UA</td>\n",
       "      <td>152</td>\n",
       "      <td>9.0</td>\n",
       "      <td>When the menace known as the Joker wreaks havo...</td>\n",
       "      <td>84.0</td>\n",
       "      <td>Christopher Nolan</td>\n",
       "      <td>Christian Bale</td>\n",
       "      <td>Heath Ledger</td>\n",
       "      <td>Aaron Eckhart</td>\n",
       "      <td>Michael Caine</td>\n",
       "      <td>2303232</td>\n",
       "      <td>Action,</td>\n",
       "      <td>Crime,</td>\n",
       "      <td>Drama</td>\n",
       "    </tr>\n",
       "  </tbody>\n",
       "</table>\n",
       "</div>"
      ],
      "text/plain": [
       "   ID               Movie_Title  Total_Budget  Release_Year Rating  Run_Time  \\\n",
       "0   1  The Shawshank Redemption    28341469.0          1994      A       142   \n",
       "1   2             The Godfather   134966411.0          1972      A       175   \n",
       "2   3           The Dark Knight   534858444.0          2008     UA       152   \n",
       "\n",
       "   IMDB_Rating                                           Overview  Score  \\\n",
       "0          9.3  Two imprisoned men bond over a number of years...   80.0   \n",
       "1          9.2  An organized crime dynasty's aging patriarch t...  100.0   \n",
       "2          9.0  When the menace known as the Joker wreaks havo...   84.0   \n",
       "\n",
       "               Director         Actor_1         Actor_2        Actor_3  \\\n",
       "0        Frank Darabont     Tim Robbins  Morgan Freeman     Bob Gunton   \n",
       "1  Francis Ford Coppola   Marlon Brando       Al Pacino     James Caan   \n",
       "2     Christopher Nolan  Christian Bale    Heath Ledger  Aaron Eckhart   \n",
       "\n",
       "          Actor_4  Number_of_votes  Genre_1 Genre_2 Genre_3  \n",
       "0  William Sadler          2343110    Drama    None    None  \n",
       "1    Diane Keaton          1620367   Crime,   Drama    None  \n",
       "2   Michael Caine          2303232  Action,  Crime,   Drama  "
      ]
     },
     "execution_count": 8,
     "metadata": {},
     "output_type": "execute_result"
    }
   ],
   "source": [
    "dados[['Genre_1', 'Genre_2', 'Genre_3']] = dados['Genre'].str.split(expand=True)\n",
    "dados.drop(labels = 'Genre', axis = 1, inplace = True)\n",
    "dados.head(3)"
   ]
  },
  {
   "cell_type": "markdown",
   "id": "40bb65bd-15e8-4d33-9d61-76751d4b6e4e",
   "metadata": {},
   "source": [
    "Splitting the Genre column caused some erros like spaces and commas"
   ]
  },
  {
   "cell_type": "code",
   "execution_count": 9,
   "id": "af604b40-b0dc-4966-af03-f1f3e3190b87",
   "metadata": {
    "tags": []
   },
   "outputs": [
    {
     "data": {
      "text/html": [
       "<div>\n",
       "<style scoped>\n",
       "    .dataframe tbody tr th:only-of-type {\n",
       "        vertical-align: middle;\n",
       "    }\n",
       "\n",
       "    .dataframe tbody tr th {\n",
       "        vertical-align: top;\n",
       "    }\n",
       "\n",
       "    .dataframe thead th {\n",
       "        text-align: right;\n",
       "    }\n",
       "</style>\n",
       "<table border=\"1\" class=\"dataframe\">\n",
       "  <thead>\n",
       "    <tr style=\"text-align: right;\">\n",
       "      <th></th>\n",
       "      <th>ID</th>\n",
       "      <th>Movie_Title</th>\n",
       "      <th>Total_Budget</th>\n",
       "      <th>Release_Year</th>\n",
       "      <th>Rating</th>\n",
       "      <th>Run_Time</th>\n",
       "      <th>IMDB_Rating</th>\n",
       "      <th>Overview</th>\n",
       "      <th>Score</th>\n",
       "      <th>Director</th>\n",
       "      <th>Actor_1</th>\n",
       "      <th>Actor_2</th>\n",
       "      <th>Actor_3</th>\n",
       "      <th>Actor_4</th>\n",
       "      <th>Number_of_votes</th>\n",
       "      <th>Genre_1</th>\n",
       "      <th>Genre_2</th>\n",
       "      <th>Genre_3</th>\n",
       "    </tr>\n",
       "  </thead>\n",
       "  <tbody>\n",
       "    <tr>\n",
       "      <th>0</th>\n",
       "      <td>1</td>\n",
       "      <td>The Shawshank Redemption</td>\n",
       "      <td>28341469.0</td>\n",
       "      <td>1994</td>\n",
       "      <td>A</td>\n",
       "      <td>142</td>\n",
       "      <td>9.3</td>\n",
       "      <td>Two imprisoned men bond over a number of years...</td>\n",
       "      <td>80.0</td>\n",
       "      <td>Frank Darabont</td>\n",
       "      <td>Tim Robbins</td>\n",
       "      <td>Morgan Freeman</td>\n",
       "      <td>Bob Gunton</td>\n",
       "      <td>William Sadler</td>\n",
       "      <td>2343110</td>\n",
       "      <td>Drama</td>\n",
       "      <td>None</td>\n",
       "      <td>None</td>\n",
       "    </tr>\n",
       "    <tr>\n",
       "      <th>1</th>\n",
       "      <td>2</td>\n",
       "      <td>The Godfather</td>\n",
       "      <td>134966411.0</td>\n",
       "      <td>1972</td>\n",
       "      <td>A</td>\n",
       "      <td>175</td>\n",
       "      <td>9.2</td>\n",
       "      <td>An organized crime dynasty's aging patriarch t...</td>\n",
       "      <td>100.0</td>\n",
       "      <td>Francis Ford Coppola</td>\n",
       "      <td>Marlon Brando</td>\n",
       "      <td>Al Pacino</td>\n",
       "      <td>James Caan</td>\n",
       "      <td>Diane Keaton</td>\n",
       "      <td>1620367</td>\n",
       "      <td>Crime</td>\n",
       "      <td>Drama</td>\n",
       "      <td>None</td>\n",
       "    </tr>\n",
       "    <tr>\n",
       "      <th>2</th>\n",
       "      <td>3</td>\n",
       "      <td>The Dark Knight</td>\n",
       "      <td>534858444.0</td>\n",
       "      <td>2008</td>\n",
       "      <td>UA</td>\n",
       "      <td>152</td>\n",
       "      <td>9.0</td>\n",
       "      <td>When the menace known as the Joker wreaks havo...</td>\n",
       "      <td>84.0</td>\n",
       "      <td>Christopher Nolan</td>\n",
       "      <td>Christian Bale</td>\n",
       "      <td>Heath Ledger</td>\n",
       "      <td>Aaron Eckhart</td>\n",
       "      <td>Michael Caine</td>\n",
       "      <td>2303232</td>\n",
       "      <td>Action</td>\n",
       "      <td>Crime</td>\n",
       "      <td>Drama</td>\n",
       "    </tr>\n",
       "  </tbody>\n",
       "</table>\n",
       "</div>"
      ],
      "text/plain": [
       "   ID               Movie_Title  Total_Budget  Release_Year Rating  Run_Time  \\\n",
       "0   1  The Shawshank Redemption    28341469.0          1994      A       142   \n",
       "1   2             The Godfather   134966411.0          1972      A       175   \n",
       "2   3           The Dark Knight   534858444.0          2008     UA       152   \n",
       "\n",
       "   IMDB_Rating                                           Overview  Score  \\\n",
       "0          9.3  Two imprisoned men bond over a number of years...   80.0   \n",
       "1          9.2  An organized crime dynasty's aging patriarch t...  100.0   \n",
       "2          9.0  When the menace known as the Joker wreaks havo...   84.0   \n",
       "\n",
       "               Director         Actor_1         Actor_2        Actor_3  \\\n",
       "0        Frank Darabont     Tim Robbins  Morgan Freeman     Bob Gunton   \n",
       "1  Francis Ford Coppola   Marlon Brando       Al Pacino     James Caan   \n",
       "2     Christopher Nolan  Christian Bale    Heath Ledger  Aaron Eckhart   \n",
       "\n",
       "          Actor_4  Number_of_votes Genre_1 Genre_2 Genre_3  \n",
       "0  William Sadler          2343110   Drama    None    None  \n",
       "1    Diane Keaton          1620367   Crime   Drama    None  \n",
       "2   Michael Caine          2303232  Action   Crime   Drama  "
      ]
     },
     "execution_count": 9,
     "metadata": {},
     "output_type": "execute_result"
    }
   ],
   "source": [
    "dados.Genre_1 = dados.Genre_1.str.strip().str.replace(',', '')\n",
    "dados.Genre_2 = dados.Genre_2.str.strip().str.replace(',', '')\n",
    "dados.Genre_3 = dados.Genre_3.str.strip().str.replace(',', '')\n",
    "dados.head(3)"
   ]
  },
  {
   "cell_type": "markdown",
   "id": "f0202df8-bc62-4160-9561-0bef043b4f56",
   "metadata": {
    "tags": []
   },
   "source": [
    "## The Rating column uses rating from different places and was standardized"
   ]
  },
  {
   "cell_type": "code",
   "execution_count": 10,
   "id": "d862fab3-dd5f-40ca-aae9-8e4de0f432ac",
   "metadata": {
    "tags": []
   },
   "outputs": [
    {
     "data": {
      "text/plain": [
       "array(['A', 'UA', 'U', 'PG-13', 'R', '16', 'PG', 'G', 'Passed', 'TV-14',\n",
       "       '10', '12', '14', 'TV-MA', 'Unrated', 'GP', '18', 'Not Rated',\n",
       "       'Approved', 'not rated', 'Livre', 'TV-PG', '12A', 'PG-12',\n",
       "       'Not rated', 'U/A'], dtype=object)"
      ]
     },
     "execution_count": 10,
     "metadata": {},
     "output_type": "execute_result"
    }
   ],
   "source": [
    "dados.Rating.unique()"
   ]
  },
  {
   "cell_type": "code",
   "execution_count": 11,
   "id": "958e355b-4229-40ec-a852-6314ef9aadc5",
   "metadata": {},
   "outputs": [],
   "source": [
    "ratings = {\n",
    "    'A' : 'General Audiences', 'UA' : 'Parental guidance suggested', 'U' : 'General Audiences',\n",
    "    'PG-13' : '13 or more', 'R' : '17 or more', '16' : '16 or more', 'PG' : 'Parental guidance suggested',\n",
    "    'G' : 'General Audiences','Passed' : 'Aprovado', 'TV-14' : '14 or more','10' : '10 or more',\n",
    "    '12' : '12 or more', '14' : '14 or more', 'TV-MA' : '17 or more', 'Unrated' : 'Not rated',\n",
    "    'GP' : 'General Audiences', '18' : '18 or more', 'Not Rated' : 'Not rated', 'Approved' : 'Aproved',\n",
    "    'not rated' : 'Not rated', 'Livre' : 'General Audiences', 'TV-PG' : 'Parental guidance suggested',\n",
    "    '12A' : '12 or more', 'PG-12' : '12 or more', 'Not rated' : 'Not rated', 'U/A' : 'Parental guidance suggested'\n",
    "}"
   ]
  },
  {
   "cell_type": "code",
   "execution_count": 12,
   "id": "b8db4225-f9c7-41d9-811c-40eef2b68dc8",
   "metadata": {
    "tags": []
   },
   "outputs": [
    {
     "data": {
      "text/html": [
       "<div>\n",
       "<style scoped>\n",
       "    .dataframe tbody tr th:only-of-type {\n",
       "        vertical-align: middle;\n",
       "    }\n",
       "\n",
       "    .dataframe tbody tr th {\n",
       "        vertical-align: top;\n",
       "    }\n",
       "\n",
       "    .dataframe thead th {\n",
       "        text-align: right;\n",
       "    }\n",
       "</style>\n",
       "<table border=\"1\" class=\"dataframe\">\n",
       "  <thead>\n",
       "    <tr style=\"text-align: right;\">\n",
       "      <th></th>\n",
       "      <th>ID</th>\n",
       "      <th>Movie_Title</th>\n",
       "      <th>Total_Budget</th>\n",
       "      <th>Release_Year</th>\n",
       "      <th>Rating</th>\n",
       "      <th>Run_Time</th>\n",
       "      <th>IMDB_Rating</th>\n",
       "      <th>Overview</th>\n",
       "      <th>Score</th>\n",
       "      <th>Director</th>\n",
       "      <th>Actor_1</th>\n",
       "      <th>Actor_2</th>\n",
       "      <th>Actor_3</th>\n",
       "      <th>Actor_4</th>\n",
       "      <th>Number_of_votes</th>\n",
       "      <th>Genre_1</th>\n",
       "      <th>Genre_2</th>\n",
       "      <th>Genre_3</th>\n",
       "    </tr>\n",
       "  </thead>\n",
       "  <tbody>\n",
       "    <tr>\n",
       "      <th>0</th>\n",
       "      <td>1</td>\n",
       "      <td>The Shawshank Redemption</td>\n",
       "      <td>28341469.0</td>\n",
       "      <td>1994</td>\n",
       "      <td>General Audiences</td>\n",
       "      <td>142</td>\n",
       "      <td>9.3</td>\n",
       "      <td>Two imprisoned men bond over a number of years...</td>\n",
       "      <td>80.0</td>\n",
       "      <td>Frank Darabont</td>\n",
       "      <td>Tim Robbins</td>\n",
       "      <td>Morgan Freeman</td>\n",
       "      <td>Bob Gunton</td>\n",
       "      <td>William Sadler</td>\n",
       "      <td>2343110</td>\n",
       "      <td>Drama</td>\n",
       "      <td>None</td>\n",
       "      <td>None</td>\n",
       "    </tr>\n",
       "    <tr>\n",
       "      <th>1</th>\n",
       "      <td>2</td>\n",
       "      <td>The Godfather</td>\n",
       "      <td>134966411.0</td>\n",
       "      <td>1972</td>\n",
       "      <td>General Audiences</td>\n",
       "      <td>175</td>\n",
       "      <td>9.2</td>\n",
       "      <td>An organized crime dynasty's aging patriarch t...</td>\n",
       "      <td>100.0</td>\n",
       "      <td>Francis Ford Coppola</td>\n",
       "      <td>Marlon Brando</td>\n",
       "      <td>Al Pacino</td>\n",
       "      <td>James Caan</td>\n",
       "      <td>Diane Keaton</td>\n",
       "      <td>1620367</td>\n",
       "      <td>Crime</td>\n",
       "      <td>Drama</td>\n",
       "      <td>None</td>\n",
       "    </tr>\n",
       "    <tr>\n",
       "      <th>2</th>\n",
       "      <td>3</td>\n",
       "      <td>The Dark Knight</td>\n",
       "      <td>534858444.0</td>\n",
       "      <td>2008</td>\n",
       "      <td>Parental guidance suggested</td>\n",
       "      <td>152</td>\n",
       "      <td>9.0</td>\n",
       "      <td>When the menace known as the Joker wreaks havo...</td>\n",
       "      <td>84.0</td>\n",
       "      <td>Christopher Nolan</td>\n",
       "      <td>Christian Bale</td>\n",
       "      <td>Heath Ledger</td>\n",
       "      <td>Aaron Eckhart</td>\n",
       "      <td>Michael Caine</td>\n",
       "      <td>2303232</td>\n",
       "      <td>Action</td>\n",
       "      <td>Crime</td>\n",
       "      <td>Drama</td>\n",
       "    </tr>\n",
       "  </tbody>\n",
       "</table>\n",
       "</div>"
      ],
      "text/plain": [
       "   ID               Movie_Title  Total_Budget  Release_Year  \\\n",
       "0   1  The Shawshank Redemption    28341469.0          1994   \n",
       "1   2             The Godfather   134966411.0          1972   \n",
       "2   3           The Dark Knight   534858444.0          2008   \n",
       "\n",
       "                        Rating  Run_Time  IMDB_Rating  \\\n",
       "0            General Audiences       142          9.3   \n",
       "1            General Audiences       175          9.2   \n",
       "2  Parental guidance suggested       152          9.0   \n",
       "\n",
       "                                            Overview  Score  \\\n",
       "0  Two imprisoned men bond over a number of years...   80.0   \n",
       "1  An organized crime dynasty's aging patriarch t...  100.0   \n",
       "2  When the menace known as the Joker wreaks havo...   84.0   \n",
       "\n",
       "               Director         Actor_1         Actor_2        Actor_3  \\\n",
       "0        Frank Darabont     Tim Robbins  Morgan Freeman     Bob Gunton   \n",
       "1  Francis Ford Coppola   Marlon Brando       Al Pacino     James Caan   \n",
       "2     Christopher Nolan  Christian Bale    Heath Ledger  Aaron Eckhart   \n",
       "\n",
       "          Actor_4  Number_of_votes Genre_1 Genre_2 Genre_3  \n",
       "0  William Sadler          2343110   Drama    None    None  \n",
       "1    Diane Keaton          1620367   Crime   Drama    None  \n",
       "2   Michael Caine          2303232  Action   Crime   Drama  "
      ]
     },
     "execution_count": 12,
     "metadata": {},
     "output_type": "execute_result"
    }
   ],
   "source": [
    "dados.Rating = dados.Rating.map(ratings)\n",
    "dados.head(3)"
   ]
  },
  {
   "cell_type": "code",
   "execution_count": 13,
   "id": "fd375ec3-affd-4e1a-bc2d-6ae5bf1ac122",
   "metadata": {},
   "outputs": [],
   "source": [
    "dados.to_csv('dados.csv', sep = ',', index = False)"
   ]
  },
  {
   "cell_type": "markdown",
   "id": "53754b38-7485-4a0f-b355-b8e07d7ab431",
   "metadata": {},
   "source": [
    "# <font color = green> The following topics will be analyzed <font>\n",
    "* Artists that apears the most \n",
    "* Averange money spent per movie\n",
    "* Money spent per genre  \n",
    "* Most common genres\n",
    "* Votes per genre  \n",
    "* Top IMBD score movie\n",
    "* Top voted movie\n",
    "* Director that spent more and less  \n",
    "* Top voted director \n"
   ]
  },
  {
   "cell_type": "markdown",
   "id": "81cd946e-e56f-48cd-873e-5c70b7d0f2ed",
   "metadata": {
    "tags": []
   },
   "source": [
    "## The 10 artists that apears the most"
   ]
  },
  {
   "cell_type": "code",
   "execution_count": 14,
   "id": "f3f3c234-1adf-4dd6-9620-2bbd550395a7",
   "metadata": {
    "tags": []
   },
   "outputs": [
    {
     "data": {
      "text/html": [
       "<div>\n",
       "<style scoped>\n",
       "    .dataframe tbody tr th:only-of-type {\n",
       "        vertical-align: middle;\n",
       "    }\n",
       "\n",
       "    .dataframe tbody tr th {\n",
       "        vertical-align: top;\n",
       "    }\n",
       "\n",
       "    .dataframe thead th {\n",
       "        text-align: right;\n",
       "    }\n",
       "</style>\n",
       "<table border=\"1\" class=\"dataframe\">\n",
       "  <thead>\n",
       "    <tr style=\"text-align: right;\">\n",
       "      <th>Name</th>\n",
       "      <th>Actor_1</th>\n",
       "      <th>Actor_2</th>\n",
       "      <th>Actor_3</th>\n",
       "      <th>Actor_4</th>\n",
       "      <th>Total</th>\n",
       "    </tr>\n",
       "  </thead>\n",
       "  <tbody>\n",
       "    <tr>\n",
       "      <th>Tom Hanks</th>\n",
       "      <td>12.0</td>\n",
       "      <td>0.0</td>\n",
       "      <td>0.0</td>\n",
       "      <td>0.0</td>\n",
       "      <td>12.0</td>\n",
       "    </tr>\n",
       "    <tr>\n",
       "      <th>Robert De Niro</th>\n",
       "      <td>11.0</td>\n",
       "      <td>0.0</td>\n",
       "      <td>0.0</td>\n",
       "      <td>0.0</td>\n",
       "      <td>11.0</td>\n",
       "    </tr>\n",
       "    <tr>\n",
       "      <th>Al Pacino</th>\n",
       "      <td>10.0</td>\n",
       "      <td>0.0</td>\n",
       "      <td>0.0</td>\n",
       "      <td>0.0</td>\n",
       "      <td>10.0</td>\n",
       "    </tr>\n",
       "    <tr>\n",
       "      <th>Clint Eastwood</th>\n",
       "      <td>10.0</td>\n",
       "      <td>0.0</td>\n",
       "      <td>0.0</td>\n",
       "      <td>0.0</td>\n",
       "      <td>10.0</td>\n",
       "    </tr>\n",
       "    <tr>\n",
       "      <th>Humphrey Bogart</th>\n",
       "      <td>9.0</td>\n",
       "      <td>0.0</td>\n",
       "      <td>0.0</td>\n",
       "      <td>0.0</td>\n",
       "      <td>9.0</td>\n",
       "    </tr>\n",
       "    <tr>\n",
       "      <th>...</th>\n",
       "      <td>...</td>\n",
       "      <td>...</td>\n",
       "      <td>...</td>\n",
       "      <td>...</td>\n",
       "      <td>...</td>\n",
       "    </tr>\n",
       "    <tr>\n",
       "      <th>Paul Rudd</th>\n",
       "      <td>0.0</td>\n",
       "      <td>0.0</td>\n",
       "      <td>0.0</td>\n",
       "      <td>1.0</td>\n",
       "      <td>1.0</td>\n",
       "    </tr>\n",
       "    <tr>\n",
       "      <th>Derek Jacobi</th>\n",
       "      <td>0.0</td>\n",
       "      <td>0.0</td>\n",
       "      <td>0.0</td>\n",
       "      <td>1.0</td>\n",
       "      <td>1.0</td>\n",
       "    </tr>\n",
       "    <tr>\n",
       "      <th>Ed Skrein</th>\n",
       "      <td>0.0</td>\n",
       "      <td>0.0</td>\n",
       "      <td>0.0</td>\n",
       "      <td>1.0</td>\n",
       "      <td>1.0</td>\n",
       "    </tr>\n",
       "    <tr>\n",
       "      <th>Merila Zare'i</th>\n",
       "      <td>0.0</td>\n",
       "      <td>0.0</td>\n",
       "      <td>0.0</td>\n",
       "      <td>1.0</td>\n",
       "      <td>1.0</td>\n",
       "    </tr>\n",
       "    <tr>\n",
       "      <th>Godfrey Tearle</th>\n",
       "      <td>0.0</td>\n",
       "      <td>0.0</td>\n",
       "      <td>0.0</td>\n",
       "      <td>1.0</td>\n",
       "      <td>1.0</td>\n",
       "    </tr>\n",
       "  </tbody>\n",
       "</table>\n",
       "<p>3331 rows × 5 columns</p>\n",
       "</div>"
      ],
      "text/plain": [
       "Name             Actor_1  Actor_2  Actor_3  Actor_4  Total\n",
       "Tom Hanks           12.0      0.0      0.0      0.0   12.0\n",
       "Robert De Niro      11.0      0.0      0.0      0.0   11.0\n",
       "Al Pacino           10.0      0.0      0.0      0.0   10.0\n",
       "Clint Eastwood      10.0      0.0      0.0      0.0   10.0\n",
       "Humphrey Bogart      9.0      0.0      0.0      0.0    9.0\n",
       "...                  ...      ...      ...      ...    ...\n",
       "Paul Rudd            0.0      0.0      0.0      1.0    1.0\n",
       "Derek Jacobi         0.0      0.0      0.0      1.0    1.0\n",
       "Ed Skrein            0.0      0.0      0.0      1.0    1.0\n",
       "Merila Zare'i        0.0      0.0      0.0      1.0    1.0\n",
       "Godfrey Tearle       0.0      0.0      0.0      1.0    1.0\n",
       "\n",
       "[3331 rows x 5 columns]"
      ]
     },
     "execution_count": 14,
     "metadata": {},
     "output_type": "execute_result"
    }
   ],
   "source": [
    "tab_1 = pd.DataFrame(dados.Actor_1.value_counts())\n",
    "tab_1.columns.name = 'Name'\n",
    "tab_2 = pd.DataFrame(dados.Actor_2.value_counts())\n",
    "tab_2.columns.name = 'Name'\n",
    "tab_3 = pd.DataFrame(dados.Actor_3.value_counts())\n",
    "tab_3.columns.name = 'Name'\n",
    "tab_4 = pd.DataFrame(dados.Actor_4.value_counts())\n",
    "tab_4.columns.name = 'Name'\n",
    "concat = pd.concat([tab_1, tab_2, tab_3, tab_4], axis = 0)\n",
    "concat.fillna({'Actor_1' : 0, 'Actor_2' : 0, 'Actor_3' : 0, 'Actor_4' : 0}, inplace = True)\n",
    "concat['Total'] = concat.Actor_1 + concat.Actor_2 + concat.Actor_3 + concat.Actor_4\n",
    "concat"
   ]
  },
  {
   "cell_type": "code",
   "execution_count": 15,
   "id": "ba18690d-9ba2-4fee-8289-bfb1f6305fff",
   "metadata": {
    "tags": []
   },
   "outputs": [
    {
     "data": {
      "text/html": [
       "<div>\n",
       "<style scoped>\n",
       "    .dataframe tbody tr th:only-of-type {\n",
       "        vertical-align: middle;\n",
       "    }\n",
       "\n",
       "    .dataframe tbody tr th {\n",
       "        vertical-align: top;\n",
       "    }\n",
       "\n",
       "    .dataframe thead th {\n",
       "        text-align: right;\n",
       "    }\n",
       "</style>\n",
       "<table border=\"1\" class=\"dataframe\">\n",
       "  <thead>\n",
       "    <tr style=\"text-align: right;\">\n",
       "      <th>Name</th>\n",
       "      <th>Total</th>\n",
       "    </tr>\n",
       "  </thead>\n",
       "  <tbody>\n",
       "    <tr>\n",
       "      <th>Tom Hanks</th>\n",
       "      <td>12.0</td>\n",
       "    </tr>\n",
       "    <tr>\n",
       "      <th>Robert De Niro</th>\n",
       "      <td>11.0</td>\n",
       "    </tr>\n",
       "    <tr>\n",
       "      <th>Al Pacino</th>\n",
       "      <td>10.0</td>\n",
       "    </tr>\n",
       "    <tr>\n",
       "      <th>Clint Eastwood</th>\n",
       "      <td>10.0</td>\n",
       "    </tr>\n",
       "    <tr>\n",
       "      <th>Humphrey Bogart</th>\n",
       "      <td>9.0</td>\n",
       "    </tr>\n",
       "    <tr>\n",
       "      <th>Leonardo DiCaprio</th>\n",
       "      <td>9.0</td>\n",
       "    </tr>\n",
       "    <tr>\n",
       "      <th>Johnny Depp</th>\n",
       "      <td>8.0</td>\n",
       "    </tr>\n",
       "    <tr>\n",
       "      <th>Christian Bale</th>\n",
       "      <td>8.0</td>\n",
       "    </tr>\n",
       "    <tr>\n",
       "      <th>James Stewart</th>\n",
       "      <td>8.0</td>\n",
       "    </tr>\n",
       "    <tr>\n",
       "      <th>Denzel Washington</th>\n",
       "      <td>7.0</td>\n",
       "    </tr>\n",
       "  </tbody>\n",
       "</table>\n",
       "</div>"
      ],
      "text/plain": [
       "Name               Total\n",
       "Tom Hanks           12.0\n",
       "Robert De Niro      11.0\n",
       "Al Pacino           10.0\n",
       "Clint Eastwood      10.0\n",
       "Humphrey Bogart      9.0\n",
       "Leonardo DiCaprio    9.0\n",
       "Johnny Depp          8.0\n",
       "Christian Bale       8.0\n",
       "James Stewart        8.0\n",
       "Denzel Washington    7.0"
      ]
     },
     "execution_count": 15,
     "metadata": {},
     "output_type": "execute_result"
    }
   ],
   "source": [
    "top_10 = pd.DataFrame(concat.Total.nlargest(n=10))\n",
    "top_10.columns.name = 'Name'\n",
    "top_10"
   ]
  },
  {
   "cell_type": "code",
   "execution_count": 16,
   "id": "1db47dd9-c3bb-46ee-9a01-8cc68c8be046",
   "metadata": {
    "tags": []
   },
   "outputs": [
    {
     "data": {
      "image/png": "[encoded data removed]",
      "text/plain": [
       "<Figure size 1080x432 with 1 Axes>"
      ]
     },
     "metadata": {},
     "output_type": "display_data"
    }
   ],
   "source": [
    "title = 'Top 10 Artists'\n",
    "labelx = 'Artists'\n",
    "labely = 'Total'\n",
    "sns.set_palette('Accent')\n",
    "sns.set_style('darkgrid')\n",
    "ax = sns.barplot(x=top_10.index, y=top_10.Total)\n",
    "ax.figure.set_size_inches(15,6)\n",
    "ax.set_title(title, loc = 'center', fontsize = 18)\n",
    "ax.set_xlabel(labelx, fontsize = 14)\n",
    "ax.set_ylabel(labely, fontsize = 14)\n",
    "ax=ax"
   ]
  },
  {
   "cell_type": "markdown",
   "id": "0d0df10f-6cde-4896-8276-d9566cd994d5",
   "metadata": {
    "tags": []
   },
   "source": [
    "## The averange budget of movies"
   ]
  },
  {
   "cell_type": "code",
   "execution_count": 17,
   "id": "82f687fb-4575-42fd-9ac5-a54f333c1134",
   "metadata": {
    "tags": []
   },
   "outputs": [
    {
     "name": "stdout",
     "output_type": "stream",
     "text": [
      "The averange budget per movie is: 78245635.30\n"
     ]
    }
   ],
   "source": [
    "budget = dados.dropna()\n",
    "print(f'The averange budget per movie is: {(budget.Total_Budget.mean()):.2f}')"
   ]
  },
  {
   "cell_type": "markdown",
   "id": "fd0ddb76-bbcb-4008-a1b3-1e9a0a0dfe25",
   "metadata": {
    "tags": []
   },
   "source": [
    "## The total budget for each genre"
   ]
  },
  {
   "cell_type": "code",
   "execution_count": 18,
   "id": "9f21529c-9449-4422-8352-54751b217529",
   "metadata": {
    "tags": []
   },
   "outputs": [
    {
     "data": {
      "text/html": [
       "<div>\n",
       "<style scoped>\n",
       "    .dataframe tbody tr th:only-of-type {\n",
       "        vertical-align: middle;\n",
       "    }\n",
       "\n",
       "    .dataframe tbody tr th {\n",
       "        vertical-align: top;\n",
       "    }\n",
       "\n",
       "    .dataframe thead th {\n",
       "        text-align: right;\n",
       "    }\n",
       "</style>\n",
       "<table border=\"1\" class=\"dataframe\">\n",
       "  <thead>\n",
       "    <tr style=\"text-align: right;\">\n",
       "      <th></th>\n",
       "      <th>Total_Budget_1</th>\n",
       "      <th>Total_Budget_2</th>\n",
       "      <th>Total_Budget_3</th>\n",
       "      <th>Total</th>\n",
       "    </tr>\n",
       "  </thead>\n",
       "  <tbody>\n",
       "    <tr>\n",
       "      <th>Action</th>\n",
       "      <td>1.796485e+10</td>\n",
       "      <td>2.010362e+09</td>\n",
       "      <td>0.000000e+00</td>\n",
       "      <td>1.997522e+10</td>\n",
       "    </tr>\n",
       "    <tr>\n",
       "      <th>Adventure</th>\n",
       "      <td>4.213090e+09</td>\n",
       "      <td>1.991696e+10</td>\n",
       "      <td>2.008695e+09</td>\n",
       "      <td>2.613875e+10</td>\n",
       "    </tr>\n",
       "    <tr>\n",
       "      <th>Animation</th>\n",
       "      <td>8.827148e+09</td>\n",
       "      <td>0.000000e+00</td>\n",
       "      <td>0.000000e+00</td>\n",
       "      <td>8.827148e+09</td>\n",
       "    </tr>\n",
       "    <tr>\n",
       "      <th>Biography</th>\n",
       "      <td>4.198667e+09</td>\n",
       "      <td>5.665855e+08</td>\n",
       "      <td>0.000000e+00</td>\n",
       "      <td>4.765253e+09</td>\n",
       "    </tr>\n",
       "    <tr>\n",
       "      <th>Comedy</th>\n",
       "      <td>1.883961e+09</td>\n",
       "      <td>1.709140e+09</td>\n",
       "      <td>6.576852e+09</td>\n",
       "      <td>1.016995e+10</td>\n",
       "    </tr>\n",
       "    <tr>\n",
       "      <th>Crime</th>\n",
       "      <td>2.282382e+09</td>\n",
       "      <td>3.116192e+09</td>\n",
       "      <td>6.098041e+08</td>\n",
       "      <td>6.008378e+09</td>\n",
       "    </tr>\n",
       "    <tr>\n",
       "      <th>Drama</th>\n",
       "      <td>2.976746e+09</td>\n",
       "      <td>9.313349e+09</td>\n",
       "      <td>6.584270e+09</td>\n",
       "      <td>1.887436e+10</td>\n",
       "    </tr>\n",
       "    <tr>\n",
       "      <th>Family</th>\n",
       "      <td>4.000000e+06</td>\n",
       "      <td>1.977413e+09</td>\n",
       "      <td>1.628782e+09</td>\n",
       "      <td>3.610195e+09</td>\n",
       "    </tr>\n",
       "    <tr>\n",
       "      <th>Film-Noir</th>\n",
       "      <td>4.491910e+05</td>\n",
       "      <td>1.809400e+07</td>\n",
       "      <td>7.958516e+06</td>\n",
       "      <td>2.650171e+07</td>\n",
       "    </tr>\n",
       "    <tr>\n",
       "      <th>Horror</th>\n",
       "      <td>3.743466e+08</td>\n",
       "      <td>7.810092e+07</td>\n",
       "      <td>5.100000e+06</td>\n",
       "      <td>4.575475e+08</td>\n",
       "    </tr>\n",
       "    <tr>\n",
       "      <th>Mystery</th>\n",
       "      <td>7.471979e+07</td>\n",
       "      <td>1.729309e+09</td>\n",
       "      <td>1.437718e+09</td>\n",
       "      <td>3.241747e+09</td>\n",
       "    </tr>\n",
       "    <tr>\n",
       "      <th>Fantasy</th>\n",
       "      <td>0.000000e+00</td>\n",
       "      <td>4.315386e+08</td>\n",
       "      <td>5.143596e+09</td>\n",
       "      <td>5.575135e+09</td>\n",
       "    </tr>\n",
       "    <tr>\n",
       "      <th>History</th>\n",
       "      <td>0.000000e+00</td>\n",
       "      <td>5.549168e+08</td>\n",
       "      <td>1.862477e+09</td>\n",
       "      <td>2.417393e+09</td>\n",
       "    </tr>\n",
       "    <tr>\n",
       "      <th>Music</th>\n",
       "      <td>0.000000e+00</td>\n",
       "      <td>3.514232e+08</td>\n",
       "      <td>6.735029e+08</td>\n",
       "      <td>1.024926e+09</td>\n",
       "    </tr>\n",
       "    <tr>\n",
       "      <th>Musical</th>\n",
       "      <td>0.000000e+00</td>\n",
       "      <td>8.820066e+06</td>\n",
       "      <td>2.598320e+08</td>\n",
       "      <td>2.686521e+08</td>\n",
       "    </tr>\n",
       "    <tr>\n",
       "      <th>Romance</th>\n",
       "      <td>0.000000e+00</td>\n",
       "      <td>2.551618e+08</td>\n",
       "      <td>1.992329e+09</td>\n",
       "      <td>2.247490e+09</td>\n",
       "    </tr>\n",
       "    <tr>\n",
       "      <th>Sci-Fi</th>\n",
       "      <td>0.000000e+00</td>\n",
       "      <td>5.898490e+08</td>\n",
       "      <td>7.175666e+09</td>\n",
       "      <td>7.765515e+09</td>\n",
       "    </tr>\n",
       "    <tr>\n",
       "      <th>Thriller</th>\n",
       "      <td>0.000000e+00</td>\n",
       "      <td>1.730760e+08</td>\n",
       "      <td>5.010574e+09</td>\n",
       "      <td>5.183650e+09</td>\n",
       "    </tr>\n",
       "    <tr>\n",
       "      <th>War</th>\n",
       "      <td>0.000000e+00</td>\n",
       "      <td>6.966900e+04</td>\n",
       "      <td>9.234877e+08</td>\n",
       "      <td>9.235574e+08</td>\n",
       "    </tr>\n",
       "    <tr>\n",
       "      <th>Sport</th>\n",
       "      <td>0.000000e+00</td>\n",
       "      <td>0.000000e+00</td>\n",
       "      <td>6.532211e+08</td>\n",
       "      <td>6.532211e+08</td>\n",
       "    </tr>\n",
       "    <tr>\n",
       "      <th>Western</th>\n",
       "      <td>0.000000e+00</td>\n",
       "      <td>0.000000e+00</td>\n",
       "      <td>2.464974e+08</td>\n",
       "      <td>2.464974e+08</td>\n",
       "    </tr>\n",
       "  </tbody>\n",
       "</table>\n",
       "</div>"
      ],
      "text/plain": [
       "           Total_Budget_1  Total_Budget_2  Total_Budget_3         Total\n",
       "Action       1.796485e+10    2.010362e+09    0.000000e+00  1.997522e+10\n",
       "Adventure    4.213090e+09    1.991696e+10    2.008695e+09  2.613875e+10\n",
       "Animation    8.827148e+09    0.000000e+00    0.000000e+00  8.827148e+09\n",
       "Biography    4.198667e+09    5.665855e+08    0.000000e+00  4.765253e+09\n",
       "Comedy       1.883961e+09    1.709140e+09    6.576852e+09  1.016995e+10\n",
       "Crime        2.282382e+09    3.116192e+09    6.098041e+08  6.008378e+09\n",
       "Drama        2.976746e+09    9.313349e+09    6.584270e+09  1.887436e+10\n",
       "Family       4.000000e+06    1.977413e+09    1.628782e+09  3.610195e+09\n",
       "Film-Noir    4.491910e+05    1.809400e+07    7.958516e+06  2.650171e+07\n",
       "Horror       3.743466e+08    7.810092e+07    5.100000e+06  4.575475e+08\n",
       "Mystery      7.471979e+07    1.729309e+09    1.437718e+09  3.241747e+09\n",
       "Fantasy      0.000000e+00    4.315386e+08    5.143596e+09  5.575135e+09\n",
       "History      0.000000e+00    5.549168e+08    1.862477e+09  2.417393e+09\n",
       "Music        0.000000e+00    3.514232e+08    6.735029e+08  1.024926e+09\n",
       "Musical      0.000000e+00    8.820066e+06    2.598320e+08  2.686521e+08\n",
       "Romance      0.000000e+00    2.551618e+08    1.992329e+09  2.247490e+09\n",
       "Sci-Fi       0.000000e+00    5.898490e+08    7.175666e+09  7.765515e+09\n",
       "Thriller     0.000000e+00    1.730760e+08    5.010574e+09  5.183650e+09\n",
       "War          0.000000e+00    6.966900e+04    9.234877e+08  9.235574e+08\n",
       "Sport        0.000000e+00    0.000000e+00    6.532211e+08  6.532211e+08\n",
       "Western      0.000000e+00    0.000000e+00    2.464974e+08  2.464974e+08"
      ]
     },
     "execution_count": 18,
     "metadata": {},
     "output_type": "execute_result"
    }
   ],
   "source": [
    "tab_1 = pd.DataFrame(budget.groupby('Genre_1')['Total_Budget'].sum())\n",
    "tab_1.columns.name = 'Genre'\n",
    "tab_2 = pd.DataFrame(budget.groupby('Genre_2')['Total_Budget'].sum())\n",
    "tab_2.columns.name = 'Genre'\n",
    "tab_3 = pd.DataFrame(budget.groupby('Genre_3')['Total_Budget'].sum())\n",
    "tab_3.columns.name = 'Genre'\n",
    "genre_budget = pd.concat([tab_1, tab_2, tab_3], axis = 1)\n",
    "genre_budget.columns = ['Total_Budget_1', 'Total_Budget_2', 'Total_Budget_3']\n",
    "genre_budget.fillna({'Total_Budget_1' : 0, 'Total_Budget_2' : 0, 'Total_Budget_3' : 0}, inplace = True)\n",
    "genre_budget['Total'] = genre_budget.Total_Budget_1 + genre_budget.Total_Budget_2 + genre_budget.Total_Budget_3\n",
    "genre_budget"
   ]
  },
  {
   "cell_type": "code",
   "execution_count": 19,
   "id": "8c7fbcfa-abb6-441e-beef-5df14df51246",
   "metadata": {
    "tags": []
   },
   "outputs": [
    {
     "data": {
      "image/png": "[encoded data removed]",
      "text/plain": [
       "<Figure size 1080x432 with 1 Axes>"
      ]
     },
     "metadata": {},
     "output_type": "display_data"
    }
   ],
   "source": [
    "temp = pd.DataFrame(genre_budget.Total.nlargest(n=10))\n",
    "title = 'Top genres that spent the most'\n",
    "labelx = 'Genre'\n",
    "labely = 'Total'\n",
    "sns.set_palette('Accent')\n",
    "sns.set_style('darkgrid')\n",
    "plt.ticklabel_format(style='scientific', axis='y', scilimits = [6,6])\n",
    "ax = sns.barplot(x=temp.index, y=temp.Total)\n",
    "ax.figure.set_size_inches(15,6)\n",
    "ax.set_title(title, loc = 'center', fontsize = 18)\n",
    "ax.set_xlabel(labelx, fontsize = 14)\n",
    "ax.set_ylabel(labely, fontsize = 14)\n",
    "ax=ax"
   ]
  },
  {
   "cell_type": "markdown",
   "id": "77b90bf0-0b03-4e62-b43e-59efea7e924e",
   "metadata": {
    "tags": []
   },
   "source": [
    "## The genres that apears the most"
   ]
  },
  {
   "cell_type": "code",
   "execution_count": 20,
   "id": "3d57f1ae-a983-46ce-81bf-b6c989e6760a",
   "metadata": {
    "tags": []
   },
   "outputs": [
    {
     "data": {
      "text/html": [
       "<div>\n",
       "<style scoped>\n",
       "    .dataframe tbody tr th:only-of-type {\n",
       "        vertical-align: middle;\n",
       "    }\n",
       "\n",
       "    .dataframe tbody tr th {\n",
       "        vertical-align: top;\n",
       "    }\n",
       "\n",
       "    .dataframe thead th {\n",
       "        text-align: right;\n",
       "    }\n",
       "</style>\n",
       "<table border=\"1\" class=\"dataframe\">\n",
       "  <thead>\n",
       "    <tr style=\"text-align: right;\">\n",
       "      <th>Genre</th>\n",
       "      <th>Genre_1</th>\n",
       "      <th>Genre_2</th>\n",
       "      <th>Genre_3</th>\n",
       "      <th>Total</th>\n",
       "    </tr>\n",
       "  </thead>\n",
       "  <tbody>\n",
       "    <tr>\n",
       "      <th>Drama</th>\n",
       "      <td>289.0</td>\n",
       "      <td>320.0</td>\n",
       "      <td>115.0</td>\n",
       "      <td>724.0</td>\n",
       "    </tr>\n",
       "    <tr>\n",
       "      <th>Action</th>\n",
       "      <td>172.0</td>\n",
       "      <td>17.0</td>\n",
       "      <td>0.0</td>\n",
       "      <td>189.0</td>\n",
       "    </tr>\n",
       "    <tr>\n",
       "      <th>Comedy</th>\n",
       "      <td>155.0</td>\n",
       "      <td>43.0</td>\n",
       "      <td>35.0</td>\n",
       "      <td>233.0</td>\n",
       "    </tr>\n",
       "  </tbody>\n",
       "</table>\n",
       "</div>"
      ],
      "text/plain": [
       "Genre   Genre_1  Genre_2  Genre_3  Total\n",
       "Drama     289.0    320.0    115.0  724.0\n",
       "Action    172.0     17.0      0.0  189.0\n",
       "Comedy    155.0     43.0     35.0  233.0"
      ]
     },
     "execution_count": 20,
     "metadata": {},
     "output_type": "execute_result"
    }
   ],
   "source": [
    "tab_1 = pd.DataFrame(dados.Genre_1.value_counts())\n",
    "tab_1.columns.name = 'Genre'\n",
    "tab_2 = pd.DataFrame(dados.Genre_2.value_counts())\n",
    "tab_2.columns.name = 'Genre'\n",
    "tab_3 = pd.DataFrame(dados.Genre_3.value_counts())\n",
    "tab_3.columns.name = 'Genre'\n",
    "top_genre = pd.concat([tab_1, tab_2, tab_3], axis = 1)\n",
    "top_genre.fillna({'Genre_1' : 0, 'Genre_2' : 0, 'Genre_3' : 0}, inplace = True)\n",
    "top_genre['Total'] = top_genre.Genre_1 + top_genre.Genre_2 + top_genre.Genre_3\n",
    "top_genre.head(3)"
   ]
  },
  {
   "cell_type": "code",
   "execution_count": 22,
   "id": "404a2dfc-8392-4abb-9997-03214eb8aa0f",
   "metadata": {
    "tags": []
   },
   "outputs": [
    {
     "data": {
      "image/png": "[encoded data removed]",
      "text/plain": [
       "<Figure size 1080x432 with 1 Axes>"
      ]
     },
     "metadata": {},
     "output_type": "display_data"
    }
   ],
   "source": [
    "temp = pd.DataFrame(top_genre.Total.nlargest(n=10))\n",
    "title = 'Top genres that appeared the most'\n",
    "labelx = 'Genre'\n",
    "labely = 'Total'\n",
    "sns.set_palette('Accent')\n",
    "sns.set_style('darkgrid')\n",
    "plt.ticklabel_format(style='plain', axis='y')\n",
    "ax = sns.barplot(x=temp.index, y=temp.Total)\n",
    "ax.figure.set_size_inches(15,6)\n",
    "ax.set_title(title, loc = 'center', fontsize = 18)\n",
    "ax.set_xlabel(labelx, fontsize = 14)\n",
    "ax.set_ylabel(labely, fontsize = 14)\n",
    "ax=ax"
   ]
  },
  {
   "cell_type": "markdown",
   "id": "30c61738-c965-4472-bbdb-1d59c0e3f1cc",
   "metadata": {
    "tags": []
   },
   "source": [
    "## Genre with most votes"
   ]
  },
  {
   "cell_type": "code",
   "execution_count": null,
   "id": "a342622c-7f6a-4ae9-bf04-347a75551271",
   "metadata": {
    "tags": []
   },
   "outputs": [],
   "source": [
    "tab_1 = pd.DataFrame(dados.groupby('Genre_1')['Number_of_votes'].sum())\n",
    "tab_1.columns.name = 'Genre'\n",
    "tab_2 = pd.DataFrame(dados.groupby('Genre_2')['Number_of_votes'].sum())\n",
    "tab_2.columns.name = 'Genre'\n",
    "tab_3 = pd.DataFrame(dados.groupby('Genre_3')['Number_of_votes'].sum())\n",
    "tab_3.columns.name = 'Genre'\n",
    "genre_votes = pd.concat([tab_1, tab_2, tab_3], axis = 1)\n",
    "genre_votes.columns = ['G1', 'G2', 'G3']\n",
    "genre_votes.fillna({'G1' : 0, 'G2' : 0, 'G3' : 0}, inplace = True)\n",
    "genre_votes['Total'] = genre_votes.G1 + genre_votes.G2 + genre_votes.G3\n",
    "genre_votes.head(3)"
   ]
  },
  {
   "cell_type": "code",
   "execution_count": null,
   "id": "db61dd77-4e00-463a-a0df-ef367e751d72",
   "metadata": {
    "tags": []
   },
   "outputs": [],
   "source": [
    "temp = pd.DataFrame(genre_votes.Total.nlargest(n=10))\n",
    "title = 'Genres with most votes'\n",
    "labelx = 'Genre'\n",
    "labely = 'Total'\n",
    "sns.set_palette('Accent')\n",
    "sns.set_style('darkgrid')\n",
    "plt.ticklabel_format(style='scientific', axis='y', scilimits = [6,6])\n",
    "ax = sns.barplot(x=temp.index, y=temp.Total)\n",
    "ax.figure.set_size_inches(15,6)\n",
    "ax.set_title(title, loc = 'center', fontsize = 18)\n",
    "ax.set_xlabel(labelx, fontsize = 14)\n",
    "ax.set_ylabel(labely, fontsize = 14)\n",
    "ax=ax"
   ]
  },
  {
   "cell_type": "markdown",
   "id": "48926e99-657c-45df-a8b4-938c12d39726",
   "metadata": {
    "tags": []
   },
   "source": [
    "## The movie with the highest IMDB score is"
   ]
  },
  {
   "cell_type": "code",
   "execution_count": null,
   "id": "e41cb3e6-8270-4151-84ec-7cea0d873f5b",
   "metadata": {},
   "outputs": [],
   "source": [
    "name = dados[dados.IMDB_Rating == dados.IMDB_Rating.max()].Movie_Title\n",
    "print(f'The highest IMDB rated movie is: {name[0]}')"
   ]
  },
  {
   "cell_type": "markdown",
   "id": "1630b360-1813-476c-8316-c7135ff12e43",
   "metadata": {
    "tags": []
   },
   "source": [
    "## The director who spent most and less"
   ]
  },
  {
   "cell_type": "code",
   "execution_count": null,
   "id": "b4a8abb1-41b0-493a-8334-968a82777004",
   "metadata": {},
   "outputs": [],
   "source": [
    "tab = pd.DataFrame(budget.groupby('Director')['Total_Budget'].sum())\n",
    "tab.head(3)"
   ]
  },
  {
   "cell_type": "code",
   "execution_count": null,
   "id": "776ec870-a707-4934-b252-486bc0091d26",
   "metadata": {},
   "outputs": [],
   "source": [
    "print(f'The director who spent most is {tab.max()[0]} and the director who spent less is {tab.min()[0]}')"
   ]
  },
  {
   "cell_type": "code",
   "execution_count": null,
   "id": "2ed05858-c92a-4773-801c-014dc472aa36",
   "metadata": {},
   "outputs": [],
   "source": [
    "\n",
    "tab_1 = pd.DataFrame(dados.Actor_1.value_counts())\n",
    "tab_1.columns.name = 'Name'\n",
    "tab_2 = pd.DataFrame(dados.Actor_2.value_counts())\n",
    "tab_2.columns.name = 'Name'\n",
    "tab_3 = pd.DataFrame(dados.Actor_3.value_counts())\n",
    "tab_3.columns.name = 'Name'\n",
    "concat = pd.concat([tab_1, tab_2, tab_3], axis = 0)\n",
    "concat.fillna({'Actor_1' : 0, 'Actor_2' : 0, 'Actor_3' : 0}, inplace = True)\n",
    "concat['Total'] = concat.Actor_1 + concat.Actor_2 + concat.Actor_3\n",
    "top_10 = pd.DataFrame(concat.Total.nlargest(n=10))\n",
    "top_10.columns.name = 'Name'\n",
    "sns.barplot(x=top_10.index, y=top_10.Total)\n"
   ]
  },
  {
   "cell_type": "code",
   "execution_count": null,
   "id": "2197acc8-770d-496e-ba45-947e9de9b5ac",
   "metadata": {},
   "outputs": [],
   "source": []
  }
 ],
 "metadata": {
  "kernelspec": {
   "display_name": "Python 3 (ipykernel)",
   "language": "python",
   "name": "python3"
  },
  "language_info": {
   "codemirror_mode": {
    "name": "ipython",
    "version": 3
   },
   "file_extension": ".py",
   "mimetype": "text/x-python",
   "name": "python",
   "nbconvert_exporter": "python",
   "pygments_lexer": "ipython3",
   "version": "3.9.12"
  }
 },
 "nbformat": 4,
 "nbformat_minor": 5
}
